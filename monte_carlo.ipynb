{
  "nbformat": 4,
  "nbformat_minor": 0,
  "metadata": {
    "colab": {
      "name": "monte carlo.ipynb",
      "provenance": [],
      "collapsed_sections": [],
      "authorship_tag": "ABX9TyPXqewoQIcm/UTBoNcSqqZT",
      "include_colab_link": true
    },
    "kernelspec": {
      "name": "python3",
      "display_name": "Python 3"
    },
    "language_info": {
      "name": "python"
    }
  },
  "cells": [
    {
      "cell_type": "markdown",
      "metadata": {
        "id": "view-in-github",
        "colab_type": "text"
      },
      "source": [
        "<a href=\"https://colab.research.google.com/github/basmaeldrandaly/ML-code/blob/main/monte_carlo.ipynb\" target=\"_parent\"><img src=\"https://colab.research.google.com/assets/colab-badge.svg\" alt=\"Open In Colab\"/></a>"
      ]
    },
    {
      "cell_type": "code",
      "source": [
        "a=0\n",
        "b=2\n",
        "N=1000000"
      ],
      "metadata": {
        "id": "CeCIwOqggjaY"
      },
      "execution_count": 54,
      "outputs": []
    },
    {
      "cell_type": "markdown",
      "source": [
        "Create an array of random numbers uniformly distributed between thr limits"
      ],
      "metadata": {
        "id": "oCRdUq8hlWWk"
      }
    },
    {
      "cell_type": "code",
      "source": [
        "xrand=random.uniform(a,b,N)"
      ],
      "metadata": {
        "id": "uJ_twp6Lk7S2"
      },
      "execution_count": 55,
      "outputs": []
    },
    {
      "cell_type": "markdown",
      "source": [
        "the function to be integrated"
      ],
      "metadata": {
        "id": "lLaAVw3eltsI"
      }
    },
    {
      "cell_type": "code",
      "source": [
        "def func(x):\n",
        "    return x**2"
      ],
      "metadata": {
        "id": "LpBgUQWhhm0i"
      },
      "execution_count": 56,
      "outputs": []
    },
    {
      "cell_type": "code",
      "source": [
        "integral=0.0"
      ],
      "metadata": {
        "id": "ESVwZKymhuDg"
      },
      "execution_count": 57,
      "outputs": []
    },
    {
      "cell_type": "code",
      "source": [
        "for i in range(N):\n",
        "    integral+=func(xrand[i])"
      ],
      "metadata": {
        "id": "0ZMdOdcmhyr8"
      },
      "execution_count": 58,
      "outputs": []
    },
    {
      "cell_type": "code",
      "source": [
        "answer=((b-a)/float(N))*integral"
      ],
      "metadata": {
        "id": "fCuIdOFdh6Hg"
      },
      "execution_count": 59,
      "outputs": []
    },
    {
      "cell_type": "code",
      "source": [
        "answer"
      ],
      "metadata": {
        "colab": {
          "base_uri": "https://localhost:8080/"
        },
        "id": "IqAcLT0Djnzm",
        "outputId": "33e0d3c9-354d-43a7-d314-cde43011526a"
      },
      "execution_count": 60,
      "outputs": [
        {
          "output_type": "execute_result",
          "data": {
            "text/plain": [
              "2.6693484959627996"
            ]
          },
          "metadata": {},
          "execution_count": 60
        }
      ]
    },
    {
      "cell_type": "code",
      "source": [
        "import sympy as sp\n",
        "x = sp.Symbol('x') \n",
        "sp.integrate(x**2, x)"
      ],
      "metadata": {
        "colab": {
          "base_uri": "https://localhost:8080/",
          "height": 54
        },
        "id": "7Rm5KcIVmmZE",
        "outputId": "70c48b48-eb9c-47ed-838d-c2ab3fbb299c"
      },
      "execution_count": 62,
      "outputs": [
        {
          "output_type": "execute_result",
          "data": {
            "text/plain": [
              "x**3/3"
            ],
            "text/latex": "$\\displaystyle \\frac{x^{3}}{3}$"
          },
          "metadata": {},
          "execution_count": 62
        }
      ]
    },
    {
      "cell_type": "code",
      "source": [
        "import matplotlib.pyplot as plt\n",
        "import numpy as np\n",
        "import sympy as sy\n",
        "\n",
        "\n",
        "def f(x):\n",
        "\treturn x**2\n",
        "\n",
        "x = sy.Symbol(\"x\")\n",
        "print(sy.integrate(f(x), (x, 0, 2)))\n"
      ],
      "metadata": {
        "colab": {
          "base_uri": "https://localhost:8080/"
        },
        "id": "xauF5jeznPYv",
        "outputId": "3283c991-fac5-4957-cf66-29a7e4c71752"
      },
      "execution_count": 63,
      "outputs": [
        {
          "output_type": "stream",
          "name": "stdout",
          "text": [
            "8/3\n"
          ]
        }
      ]
    },
    {
      "cell_type": "code",
      "source": [
        "8/3"
      ],
      "metadata": {
        "colab": {
          "base_uri": "https://localhost:8080/"
        },
        "id": "i3Vu-z2nnt-i",
        "outputId": "9988d178-bd24-4bc9-b8c4-4d204875f82c"
      },
      "execution_count": 64,
      "outputs": [
        {
          "output_type": "execute_result",
          "data": {
            "text/plain": [
              "2.6666666666666665"
            ]
          },
          "metadata": {},
          "execution_count": 64
        }
      ]
    }
  ]
}
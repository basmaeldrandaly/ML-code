{
  "nbformat": 4,
  "nbformat_minor": 0,
  "metadata": {
    "colab": {
      "name": "Optimization prob 1.ipynb",
      "provenance": [],
      "collapsed_sections": [],
      "authorship_tag": "ABX9TyNYqObfOc9p/jWYZrAes3gk",
      "include_colab_link": true
    },
    "kernelspec": {
      "name": "python3",
      "display_name": "Python 3"
    },
    "language_info": {
      "name": "python"
    }
  },
  "cells": [
    {
      "cell_type": "markdown",
      "metadata": {
        "id": "view-in-github",
        "colab_type": "text"
      },
      "source": [
        "<a href=\"https://colab.research.google.com/github/basmaeldrandaly/ML-code/blob/main/Optimization_prob_1.ipynb\" target=\"_parent\"><img src=\"https://colab.research.google.com/assets/colab-badge.svg\" alt=\"Open In Colab\"/></a>"
      ]
    },
    {
      "cell_type": "markdown",
      "source": [
        "# using roulette selection + integer variables"
      ],
      "metadata": {
        "id": "7HzKWpkScRGb"
      }
    },
    {
      "cell_type": "code",
      "execution_count": 1,
      "metadata": {
        "id": "sX1w_shvn4ZP"
      },
      "outputs": [],
      "source": [
        "from numpy.random import randint\n",
        "from numpy.random import rand\n",
        "import numpy.random as npr\n",
        " \n",
        "# objective function\n",
        "def objective(x):\n",
        "\treturn x[0]+ x[1]*2.0+x[2]*3+x[3]*4-30"
      ]
    },
    {
      "cell_type": "code",
      "source": [
        "# decode bitstring to numbers\n",
        "def decode(bounds, n_bits, bitstring):\n",
        "\tdecoded = list()\n",
        "\tlargest = 2**n_bits\n",
        "\tfor i in range(len(bounds)):\n",
        "\t\t# extract the substring\n",
        "\t\tstart, end = i * n_bits, (i * n_bits)+n_bits\n",
        "\t\tsubstring = bitstring[start:end]\n",
        "\t\t# convert bitstring to a string of chars\n",
        "\t\tchars = ''.join([str(s) for s in substring])\n",
        "\t\t# convert string to integer\n",
        "\t\tinteger = int(chars, 2)\n",
        "\t\t# scale integer to desired range\n",
        "\t\tvalue = bounds[i][0] + (integer/largest) * (bounds[i][1] - bounds[i][0])\n",
        "\t\t# store\n",
        "\t\tdecoded.append(int(value))\n",
        "\treturn decoded"
      ],
      "metadata": {
        "id": "QXL0JM5A-3fj"
      },
      "execution_count": 9,
      "outputs": []
    },
    {
      "cell_type": "code",
      "source": [
        "# roulette selection\n",
        "def selection(pop, fitnesses):\n",
        "  total=sum(fitnesses)\n",
        "  probabilities=[fitnesses[c]/total for c in range(len(pop))]\n",
        "\n",
        "  return pop[npr.choice(n_pop, p=probabilities)]\n",
        "\t"
      ],
      "metadata": {
        "id": "jGFRs4ivqyYE"
      },
      "execution_count": 10,
      "outputs": []
    },
    {
      "cell_type": "code",
      "source": [
        "def crossover(p1, p2, r_cross):\n",
        "\t# children are copies of parents by default\n",
        "\tc1, c2 = p1.copy(), p2.copy()\n",
        "\t# check for recombination\n",
        "\tif rand() < r_cross:\n",
        "\t\t# select crossover point that is not on the end of the string\n",
        "\t\tpt = randint(1, len(p1)-2)\n",
        "\t\t# perform crossover\n",
        "\t\tc1 = p1[:pt] + p2[pt:]\n",
        "\t\tc2 = p2[:pt] + p1[pt:]\n",
        "\treturn [c1, c2]"
      ],
      "metadata": {
        "id": "dg4q5vqMoV8e"
      },
      "execution_count": 11,
      "outputs": []
    },
    {
      "cell_type": "code",
      "source": [
        "# mutation operator\n",
        "def mutation(bitstring, r_mut):\n",
        "\tfor i in range(len(bitstring)):\n",
        "\t\t# check for a mutation\n",
        "\t\tif rand() < r_mut:\n",
        "\t\t\t# flip the bit\n",
        "\t\t\tbitstring[i] = 1 - bitstring[i]"
      ],
      "metadata": {
        "id": "LIiCOJeFoXF1"
      },
      "execution_count": 12,
      "outputs": []
    },
    {
      "cell_type": "code",
      "source": [
        "# genetic algorithm\n",
        "def genetic_algorithm(objective, bounds, n_bits, n_iter, n_pop, r_cross, r_mut):\n",
        "\t# initial population of random bitstring\n",
        "\tpop = [randint(0, 2, n_bits*len(bounds)).tolist() for _ in range(n_pop)]\n",
        "\t# keep track of best solution\n",
        "\tbest, best_eval = 0, 1/(1+abs(objective(decode(bounds, n_bits, pop[0]))))\n",
        "\t# enumerate generations\n",
        "\tfor gen in range(n_iter):\n",
        "\t\t# decode population\n",
        "\t\tdecoded = [decode(bounds, n_bits, p) for p in pop]\n",
        "\t\t# evaluate all candidates in the population\n",
        "\t\tscores = [1/(1+abs(objective(d))) for d in decoded]\n",
        "\t\t# check for new best solution\n",
        "\t\tfor i in range(n_pop):\n",
        "\t\t\tif scores[i] > best_eval:\n",
        "\t\t\t\tbest, best_eval = pop[i], scores[i]\n",
        "\t\t\t\tprint(\">%d, new best f(%s) = %f\" % (gen,  decoded[i], scores[i]))\n",
        "\t\t# select parents\n",
        "\t\tselected = [selection(pop, scores) for _ in range(n_pop)]\n",
        "\t\t# create the next generation\n",
        "\t\tchildren = list()\n",
        "\t\tfor i in range(0, n_pop, 2):\n",
        "\t\t\t# get selected parents in pairs\n",
        "\t\t\tp1, p2 = selected[i], selected[i+1]\n",
        "\t\t\t# crossover and mutation\n",
        "\t\t\tfor c in crossover(p1, p2, r_cross):\n",
        "\t\t\t\t# mutation\n",
        "\t\t\t\tmutation(c, r_mut)\n",
        "\t\t\t\t# store for next generation\n",
        "\t\t\t\tchildren.append(c)\n",
        "\t\t# replace population\n",
        "\t\tpop = children\n",
        "\treturn [best, best_eval]"
      ],
      "metadata": {
        "id": "q4-jJsvL_JTX"
      },
      "execution_count": 13,
      "outputs": []
    },
    {
      "cell_type": "code",
      "source": [
        "# define range for input\n",
        "bounds = [[0, 30],[0, 30],[0, 30],[0, 30]]\n",
        "# define the total iterations\n",
        "n_iter = 100\n",
        "# bits per variable\n",
        "n_bits = 5\n",
        "# define the population size\n",
        "n_pop = 100\n",
        "# crossover rate\n",
        "r_cross = 0.9\n",
        "# mutation rate\n",
        "r_mut = 1.0 / (float(n_bits) * len(bounds))\n",
        "# perform the genetic algorithm search\n",
        "best, score = genetic_algorithm(objective, bounds, n_bits, n_iter, n_pop, r_cross, r_mut)\n",
        "print('Done!')\n",
        "decoded = decode(bounds, n_bits, best)\n",
        "print('f(%s) = %f' % (decoded, objective(decoded)))"
      ],
      "metadata": {
        "colab": {
          "base_uri": "https://localhost:8080/"
        },
        "id": "AQYbjmPmoc-_",
        "outputId": "84cd68b2-fa5b-4284-a130-b9e4a1408f7d"
      },
      "execution_count": 27,
      "outputs": [
        {
          "output_type": "stream",
          "name": "stdout",
          "text": [
            ">0, new best f([0, 7, 20, 0]) = 0.022222\n",
            ">0, new best f([5, 0, 1, 0]) = 0.043478\n",
            ">0, new best f([21, 0, 0, 0]) = 0.100000\n",
            ">1, new best f([5, 4, 1, 3]) = 0.333333\n",
            ">1, new best f([7, 12, 0, 0]) = 0.500000\n",
            ">3, new best f([5, 5, 1, 3]) = 1.000000\n",
            "Done!\n",
            "f([5, 5, 1, 3]) = 0.000000\n"
          ]
        }
      ]
    },
    {
      "cell_type": "code",
      "source": [
        "5+10+3+12-30"
      ],
      "metadata": {
        "colab": {
          "base_uri": "https://localhost:8080/"
        },
        "id": "UhZoiSopf-OC",
        "outputId": "dea3ccca-b919-4506-840b-a3b7a2e2c487"
      },
      "execution_count": 30,
      "outputs": [
        {
          "output_type": "execute_result",
          "data": {
            "text/plain": [
              "0"
            ]
          },
          "metadata": {},
          "execution_count": 30
        }
      ]
    },
    {
      "cell_type": "code",
      "source": [
        "objective(decoded)"
      ],
      "metadata": {
        "colab": {
          "base_uri": "https://localhost:8080/"
        },
        "id": "hCYnUvinXAqS",
        "outputId": "ec4d75bc-4c46-482b-f2f3-ee4c3b894566"
      },
      "execution_count": 29,
      "outputs": [
        {
          "output_type": "execute_result",
          "data": {
            "text/plain": [
              "0.0"
            ]
          },
          "metadata": {},
          "execution_count": 29
        }
      ]
    },
    {
      "cell_type": "markdown",
      "source": [
        "# using tournment selection + non integer variables"
      ],
      "metadata": {
        "id": "iBwlfmOhcNjb"
      }
    },
    {
      "cell_type": "code",
      "source": [
        "# genetic algorithm search for continuous function optimization\n",
        "from numpy.random import randint\n",
        "from numpy.random import rand\n",
        "\n",
        "# objective function\n",
        "def objective(x):\n",
        "\treturn x[0]+ x[1]*2.0+x[2]*3+x[3]*4-30\n",
        "\n",
        "# decode bitstring to numbers\n",
        "def decode(bounds, n_bits, bitstring):\n",
        "\tdecoded = list()\n",
        "\tlargest = 2**n_bits\n",
        "\tfor i in range(len(bounds)):\n",
        "\t\t# extract the substring\n",
        "\t\tstart, end = i * n_bits, (i * n_bits)+n_bits\n",
        "\t\tsubstring = bitstring[start:end]\n",
        "\t\t# convert bitstring to a string of chars\n",
        "\t\tchars = ''.join([str(s) for s in substring])\n",
        "\t\t# convert string to integer\n",
        "\t\tinteger = int(chars, 2)\n",
        "\t\t# scale integer to desired range\n",
        "\t\tvalue = bounds[i][0] + (integer/largest) * (bounds[i][1] - bounds[i][0])\n",
        "\t\t# store\n",
        "\t\tdecoded.append(value)\n",
        "\treturn decoded\n",
        "\n",
        "# tournament selection\n",
        "def selection(pop, scores, k=3):\n",
        "\t# first random selection\n",
        "\tselection_ix = randint(len(pop))\n",
        "\tfor ix in randint(0, len(pop), k-1):\n",
        "\t\t# check if better (e.g. perform a tournament)\n",
        "\t\tif scores[ix] < scores[selection_ix]:\n",
        "\t\t\tselection_ix = ix\n",
        "\treturn pop[selection_ix]\n",
        "\n",
        "# crossover two parents to create two children\n",
        "def crossover(p1, p2, r_cross):\n",
        "\t# children are copies of parents by default\n",
        "\tc1, c2 = p1.copy(), p2.copy()\n",
        "\t# check for recombination\n",
        "\tif rand() < r_cross:\n",
        "\t\t# select crossover point that is not on the end of the string\n",
        "\t\tpt = randint(1, len(p1)-2)\n",
        "\t\t# perform crossover\n",
        "\t\tc1 = p1[:pt] + p2[pt:]\n",
        "\t\tc2 = p2[:pt] + p1[pt:]\n",
        "\treturn [c1, c2]\n",
        "\n",
        "# mutation operator\n",
        "def mutation(bitstring, r_mut):\n",
        "\tfor i in range(len(bitstring)):\n",
        "\t\t# check for a mutation\n",
        "\t\tif rand() < r_mut:\n",
        "\t\t\t# flip the bit\n",
        "\t\t\tbitstring[i] = 1 - bitstring[i]\n",
        "\n",
        "# genetic algorithm\n",
        "def genetic_algorithm(objective, bounds, n_bits, n_iter, n_pop, r_cross, r_mut):\n",
        "\t# initial population of random bitstring\n",
        "\tpop = [randint(0, 2, n_bits*len(bounds)).tolist() for _ in range(n_pop)]\n",
        "\t# keep track of best solution\n",
        "\tbest, best_eval = 0, objective(decode(bounds, n_bits, pop[0]))\n",
        "\t# enumerate generations\n",
        "\tfor gen in range(n_iter):\n",
        "\t\t# decode population\n",
        "\t\tdecoded = [decode(bounds, n_bits, p) for p in pop]\n",
        "\t\t# evaluate all candidates in the population\n",
        "\t\tscores = [abs((objective(d))) for d in decoded]\n",
        "\t\t# check for new best solution\n",
        "\t\tfor i in range(n_pop):\n",
        "\t\t\tif scores[i] < best_eval:\n",
        "\t\t\t\tbest, best_eval = pop[i], scores[i]\n",
        "\t\t\t\tprint(\">%d, new best f(%s) = %f\" % (gen,  decoded[i], scores[i]))\n",
        "\t\t# select parents\n",
        "\t\tselected = [selection(pop, scores) for _ in range(n_pop)]\n",
        "\t\t# create the next generation\n",
        "\t\tchildren = list()\n",
        "\t\tfor i in range(0, n_pop, 2):\n",
        "\t\t\t# get selected parents in pairs\n",
        "\t\t\tp1, p2 = selected[i], selected[i+1]\n",
        "\t\t\t# crossover and mutation\n",
        "\t\t\tfor c in crossover(p1, p2, r_cross):\n",
        "\t\t\t\t# mutation\n",
        "\t\t\t\tmutation(c, r_mut)\n",
        "\t\t\t\t# store for next generation\n",
        "\t\t\t\tchildren.append(c)\n",
        "\t\t# replace population\n",
        "\t\tpop = children\n",
        "\treturn [best, best_eval]\n",
        "\n",
        "# define range for input\n",
        "bounds = [[0, 30],[0, 30],[0, 30],[0, 30]]\n",
        "# define the total iterations\n",
        "n_iter = 100\n",
        "# bits per variable\n",
        "n_bits = 5\n",
        "# define the population size\n",
        "n_pop = 100\n",
        "# crossover rate\n",
        "r_cross = 0.9\n",
        "# mutation rate\n",
        "r_mut = 1.0 / (float(n_bits) * len(bounds))\n",
        "# perform the genetic algorithm search\n",
        "best, score = genetic_algorithm(objective, bounds, n_bits, n_iter, n_pop, r_cross, r_mut)\n",
        "print('Done!')\n",
        "decoded = decode(bounds, n_bits, best)\n",
        "print('f(%s) = %f' % (decoded, score))"
      ],
      "metadata": {
        "colab": {
          "base_uri": "https://localhost:8080/"
        },
        "id": "yYVCTj4YXiqV",
        "outputId": "9754be45-50e6-4e4a-f666-31d1ca8d0389"
      },
      "execution_count": 31,
      "outputs": [
        {
          "output_type": "stream",
          "name": "stdout",
          "text": [
            ">0, new best f([28.125, 5.625, 8.4375, 4.6875]) = 53.437500\n",
            ">0, new best f([4.6875, 3.75, 3.75, 3.75]) = 8.437500\n",
            ">0, new best f([15.0, 4.6875, 3.75, 0.0]) = 5.625000\n",
            ">1, new best f([19.6875, 0.9375, 3.75, 0.0]) = 2.812500\n",
            ">1, new best f([14.0625, 3.75, 0.9375, 0.9375]) = 1.875000\n",
            ">2, new best f([5.625, 4.6875, 3.75, 0.9375]) = 0.000000\n",
            "Done!\n",
            "f([5.625, 4.6875, 3.75, 0.9375]) = 0.000000\n"
          ]
        }
      ]
    }
  ]
}